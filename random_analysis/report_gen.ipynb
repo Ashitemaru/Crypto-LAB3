{
 "cells": [
  {
   "cell_type": "code",
   "execution_count": 41,
   "metadata": {
    "collapsed": true,
    "pycharm": {
     "name": "#%%\n"
    }
   },
   "outputs": [],
   "source": [
    "from pathlib import Path\n",
    "from IPython import embed\n",
    "\n",
    "root = Path(r\"I:\\Cryptography\\result\")\n",
    "\n",
    "type_map = {\n",
    "    'sample_random': \"随机\",\n",
    "    \"sample_high_density\": \"高密\",\n",
    "    \"sample_low_density\": \"低密\"\n",
    "}\n",
    "\n",
    "def extract(lines: list):\n",
    "    # print(''.join(lines))\n",
    "    lines = lines[7:]\n",
    "    lines = map(str.split, map(str.strip, lines))\n",
    "    lines = [' '.join(l).replace(' *', '*').split() for l in lines]\n",
    "    checks = []\n",
    "\n",
    "    for l in lines:\n",
    "        if len(l) == 0:\n",
    "            break\n",
    "        # print(l)\n",
    "        test_name = l[-1]\n",
    "        ratio = l[-2]\n",
    "        pv = l[-3]\n",
    "        checks += [(test_name, ratio, pv, '*' not in ratio + pv)]\n",
    "    return checks\n",
    "\n",
    "result = {}\n",
    "for d in root.iterdir():\n",
    "    if d.is_dir():\n",
    "        for t in d.iterdir():\n",
    "            if t.is_dir():\n",
    "                for res in t.iterdir():\n",
    "                    with open(res, \"r\") as f:\n",
    "                        cs = extract(f.readlines())\n",
    "                    for c in cs:\n",
    "                        if c[0] not in result:\n",
    "                            result[c[0]] = [(d.name, t.name, *c[1:])]\n",
    "                        else:\n",
    "                            result[c[0]] += [(d.name, t.name, *c[1:])]\n",
    "\n",
    "def table(name):\n",
    "    non_pass = False\n",
    "\n",
    "    for rec in result[name]:\n",
    "        if not rec[4]:\n",
    "            if not non_pass:\n",
    "                print(\"以下测试点存在异常：\\n\\n|数据规模|输入类型|通过率|P值|\\n|---|---|---|---|\")\n",
    "            print(f\"|{rec[0]}|{type_map[rec[1]]}|{rec[2]}|{rec[3]}|\")\n",
    "            non_pass = True\n",
    "    if non_pass:\n",
    "        non_pass = False\n",
    "        print(\"\\n其余测试点全部通过。\")\n",
    "        for rec in result[name]:\n",
    "            if rec[4]:\n",
    "                if not non_pass:\n",
    "                    print(\"\\n\\n|数据规模|输入类型|通过率|P值|\\n|---|---|---|---|\")\n",
    "                print(f\"|{rec[0]}|{type_map[rec[1]]}|{rec[2]}|{rec[3]}|\")\n",
    "                non_pass = True\n",
    "    else:\n",
    "        print(\"有效测试点全部通过。\\n\\n|数据规模|输入类型|通过率|P值|\\n|---|---|---|---|\")\n",
    "        for rec in result[name]:\n",
    "            print(f\"|{rec[0]}|{type_map[rec[1]]}|{rec[2]}|{rec[3]}|\")\n",
    "    print()\n",
    "\n",
    "\n",
    "def report_gen():\n",
    "    for k in sorted(result.keys()):\n",
    "        print(\"####\", k)\n",
    "        print()\n",
    "        if k == 'NonOverlappingTemplate':\n",
    "            print(\"Non-Overlapping Template Test 有众多匹配模板，对每种 $(数据规模，输入类型)$ 组合，考察测试通过率和P值均一性测试通过率，列举如下。\\n\\n|数据规模|输入类型|检测通过比例|P值通过比例|\\n|---|---|---|---|\")\n",
    "            t0, t1 = '', ''\n",
    "            pass_c, pv_c, total = 0, 0, 0\n",
    "            for rec in result[k]:\n",
    "                if rec[0] != t0 or rec[1] != t1:\n",
    "                    if len(t0) and len(t1):\n",
    "                        print(f\"|{t0}|{type_map[t1]}|{pass_c}/{total}|{pv_c}/{total}|\")\n",
    "                    t0, t1 = rec[:2]\n",
    "                    pass_c, pv_c, total = 0, 0, 0\n",
    "                if '*' not in rec[2]:\n",
    "                    pass_c += 1\n",
    "                if '*' not in rec[3]:\n",
    "                    pv_c += 1\n",
    "                total += 1\n",
    "            print()\n",
    "        else:\n",
    "            table(k)\n"
   ]
  },
  {
   "cell_type": "code",
   "execution_count": null,
   "outputs": [],
   "source": [
    "report_gen()"
   ],
   "metadata": {
    "collapsed": false,
    "pycharm": {
     "name": "#%%\n",
     "is_executing": true
    }
   }
  }
 ],
 "metadata": {
  "kernelspec": {
   "display_name": "Python 3",
   "language": "python",
   "name": "python3"
  },
  "language_info": {
   "codemirror_mode": {
    "name": "ipython",
    "version": 2
   },
   "file_extension": ".py",
   "mimetype": "text/x-python",
   "name": "python",
   "nbconvert_exporter": "python",
   "pygments_lexer": "ipython2",
   "version": "2.7.6"
  }
 },
 "nbformat": 4,
 "nbformat_minor": 0
}